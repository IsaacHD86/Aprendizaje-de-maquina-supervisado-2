{
 "cells": [
  {
   "cell_type": "markdown",
   "id": "b2b48d5d",
   "metadata": {},
   "source": [
    "# PRACTICA M20"
   ]
  },
  {
   "cell_type": "markdown",
   "id": "0175311d",
   "metadata": {},
   "source": [
    "Elimine las columnas de tipo categórico de la base de datos y verifique que no existan datos nulos que deban ser eliminados de manera previa al análisis.\n",
    "\n",
    "\n",
    "Realice un análisis de regresión múltiple para pronosticar la variable “CO2 EMISSIONS” con las variables remanentes. Obtenga los indicadores de bondad de ajuste correspondientes (R cuadrada, Error medio absoluto, etc.). Utilice los coeficientes resultantes y pronostique la primera observación de la base de prueba. ¿Coincide su resultado con aquel obtenido con la instrucción “predict”? Explique.\n",
    "\n",
    "Repita el ejercicio 3 pero aplicando un modelo de regresión Ridge mediante el valor de Alpha óptimo.\n",
    "\n",
    "\n",
    "Repita el ejercicio 3 pero aplicando un modelo de regresión Lasso mediante el valor de Alpha óptimo. \n",
    "\n",
    "\n",
    "¿Cuál de los 3 modelos de regresión resultó ser el mejor? Explique a detalle.\n",
    "\n"
   ]
  },
  {
   "cell_type": "code",
   "execution_count": 47,
   "id": "a6ec3dd0",
   "metadata": {},
   "outputs": [],
   "source": [
    "import numpy as np\n",
    "import pandas as pd\n",
    "import seaborn as sns\n",
    "import matplotlib.pyplot as plt\n",
    "%matplotlib inline\n",
    "import warnings\n",
    "warnings.filterwarnings('ignore')"
   ]
  },
  {
   "cell_type": "code",
   "execution_count": 35,
   "id": "45651c33",
   "metadata": {},
   "outputs": [
    {
     "data": {
      "text/html": [
       "<div>\n",
       "<style scoped>\n",
       "    .dataframe tbody tr th:only-of-type {\n",
       "        vertical-align: middle;\n",
       "    }\n",
       "\n",
       "    .dataframe tbody tr th {\n",
       "        vertical-align: top;\n",
       "    }\n",
       "\n",
       "    .dataframe thead th {\n",
       "        text-align: right;\n",
       "    }\n",
       "</style>\n",
       "<table border=\"1\" class=\"dataframe\">\n",
       "  <thead>\n",
       "    <tr style=\"text-align: right;\">\n",
       "      <th></th>\n",
       "      <th>MODELYEAR</th>\n",
       "      <th>MAKE</th>\n",
       "      <th>MODEL</th>\n",
       "      <th>VEHICLECLASS</th>\n",
       "      <th>ENGINESIZE</th>\n",
       "      <th>CYLINDERS</th>\n",
       "      <th>TRANSMISSION</th>\n",
       "      <th>FUELTYPE</th>\n",
       "      <th>FUELCONSUMPTION_CITY</th>\n",
       "      <th>FUELCONSUMPTION_HWY</th>\n",
       "      <th>FUELCONSUMPTION_COMB</th>\n",
       "      <th>FUELCONSUMPTION_COMB_MPG</th>\n",
       "      <th>CO2EMISSIONS</th>\n",
       "    </tr>\n",
       "  </thead>\n",
       "  <tbody>\n",
       "    <tr>\n",
       "      <th>0</th>\n",
       "      <td>2022</td>\n",
       "      <td>Acura</td>\n",
       "      <td>ILX</td>\n",
       "      <td>Compact</td>\n",
       "      <td>2.4</td>\n",
       "      <td>4</td>\n",
       "      <td>AM8</td>\n",
       "      <td>Z</td>\n",
       "      <td>9.9</td>\n",
       "      <td>7.0</td>\n",
       "      <td>8.6</td>\n",
       "      <td>33</td>\n",
       "      <td>200</td>\n",
       "    </tr>\n",
       "    <tr>\n",
       "      <th>1</th>\n",
       "      <td>2022</td>\n",
       "      <td>Acura</td>\n",
       "      <td>MDX SH-AWD</td>\n",
       "      <td>SUV: Small</td>\n",
       "      <td>3.5</td>\n",
       "      <td>6</td>\n",
       "      <td>AS10</td>\n",
       "      <td>Z</td>\n",
       "      <td>12.6</td>\n",
       "      <td>9.4</td>\n",
       "      <td>11.2</td>\n",
       "      <td>25</td>\n",
       "      <td>263</td>\n",
       "    </tr>\n",
       "    <tr>\n",
       "      <th>2</th>\n",
       "      <td>2022</td>\n",
       "      <td>Acura</td>\n",
       "      <td>RDX SH-AWD</td>\n",
       "      <td>SUV: Small</td>\n",
       "      <td>2.0</td>\n",
       "      <td>4</td>\n",
       "      <td>AS10</td>\n",
       "      <td>Z</td>\n",
       "      <td>11.0</td>\n",
       "      <td>8.6</td>\n",
       "      <td>9.9</td>\n",
       "      <td>29</td>\n",
       "      <td>232</td>\n",
       "    </tr>\n",
       "    <tr>\n",
       "      <th>3</th>\n",
       "      <td>2022</td>\n",
       "      <td>Acura</td>\n",
       "      <td>RDX SH-AWD A-SPEC</td>\n",
       "      <td>SUV: Small</td>\n",
       "      <td>2.0</td>\n",
       "      <td>4</td>\n",
       "      <td>AS10</td>\n",
       "      <td>Z</td>\n",
       "      <td>11.3</td>\n",
       "      <td>9.1</td>\n",
       "      <td>10.3</td>\n",
       "      <td>27</td>\n",
       "      <td>242</td>\n",
       "    </tr>\n",
       "    <tr>\n",
       "      <th>4</th>\n",
       "      <td>2022</td>\n",
       "      <td>Acura</td>\n",
       "      <td>TLX SH-AWD</td>\n",
       "      <td>Compact</td>\n",
       "      <td>2.0</td>\n",
       "      <td>4</td>\n",
       "      <td>AS10</td>\n",
       "      <td>Z</td>\n",
       "      <td>11.2</td>\n",
       "      <td>8.0</td>\n",
       "      <td>9.8</td>\n",
       "      <td>29</td>\n",
       "      <td>230</td>\n",
       "    </tr>\n",
       "  </tbody>\n",
       "</table>\n",
       "</div>"
      ],
      "text/plain": [
       "   MODELYEAR   MAKE              MODEL VEHICLECLASS  ENGINESIZE  CYLINDERS  \\\n",
       "0       2022  Acura                ILX      Compact         2.4          4   \n",
       "1       2022  Acura         MDX SH-AWD   SUV: Small         3.5          6   \n",
       "2       2022  Acura         RDX SH-AWD   SUV: Small         2.0          4   \n",
       "3       2022  Acura  RDX SH-AWD A-SPEC   SUV: Small         2.0          4   \n",
       "4       2022  Acura         TLX SH-AWD      Compact         2.0          4   \n",
       "\n",
       "  TRANSMISSION FUELTYPE  FUELCONSUMPTION_CITY  FUELCONSUMPTION_HWY  \\\n",
       "0          AM8        Z                   9.9                  7.0   \n",
       "1         AS10        Z                  12.6                  9.4   \n",
       "2         AS10        Z                  11.0                  8.6   \n",
       "3         AS10        Z                  11.3                  9.1   \n",
       "4         AS10        Z                  11.2                  8.0   \n",
       "\n",
       "   FUELCONSUMPTION_COMB  FUELCONSUMPTION_COMB_MPG  CO2EMISSIONS  \n",
       "0                   8.6                        33           200  \n",
       "1                  11.2                        25           263  \n",
       "2                   9.9                        29           232  \n",
       "3                  10.3                        27           242  \n",
       "4                   9.8                        29           230  "
      ]
     },
     "execution_count": 35,
     "metadata": {},
     "output_type": "execute_result"
    }
   ],
   "source": [
    "# abrimos nuestro archivo con el que trabajaremos\n",
    "\n",
    "emisiones = pd.read_excel('C:/Users/Isaac/Desktop/IHD/EBAC DT/M20 DS/FuelConsumptionCo2.xlsx')\n",
    "emisiones.head()"
   ]
  },
  {
   "cell_type": "code",
   "execution_count": 36,
   "id": "b939d464",
   "metadata": {},
   "outputs": [
    {
     "name": "stdout",
     "output_type": "stream",
     "text": [
      "<class 'pandas.core.frame.DataFrame'>\n",
      "RangeIndex: 945 entries, 0 to 944\n",
      "Data columns (total 13 columns):\n",
      " #   Column                    Non-Null Count  Dtype  \n",
      "---  ------                    --------------  -----  \n",
      " 0   MODELYEAR                 945 non-null    int64  \n",
      " 1   MAKE                      945 non-null    object \n",
      " 2   MODEL                     945 non-null    object \n",
      " 3   VEHICLECLASS              945 non-null    object \n",
      " 4   ENGINESIZE                945 non-null    float64\n",
      " 5   CYLINDERS                 945 non-null    int64  \n",
      " 6   TRANSMISSION              945 non-null    object \n",
      " 7   FUELTYPE                  945 non-null    object \n",
      " 8   FUELCONSUMPTION_CITY      945 non-null    float64\n",
      " 9   FUELCONSUMPTION_HWY       945 non-null    float64\n",
      " 10  FUELCONSUMPTION_COMB      945 non-null    float64\n",
      " 11  FUELCONSUMPTION_COMB_MPG  945 non-null    int64  \n",
      " 12  CO2EMISSIONS              945 non-null    int64  \n",
      "dtypes: float64(4), int64(4), object(5)\n",
      "memory usage: 96.1+ KB\n"
     ]
    }
   ],
   "source": [
    "emisiones.info()"
   ]
  },
  {
   "cell_type": "code",
   "execution_count": 37,
   "id": "cb9380b4",
   "metadata": {},
   "outputs": [
    {
     "data": {
      "text/plain": [
       "<Axes: >"
      ]
     },
     "execution_count": 37,
     "metadata": {},
     "output_type": "execute_result"
    },
    {
     "data": {
      "image/png": "[encoded data removed]",
      "text/plain": [
       "<Figure size 1000x500 with 2 Axes>"
      ]
     },
     "metadata": {},
     "output_type": "display_data"
    }
   ],
   "source": [
    "# creamos un grafico de calor para verificar si hay datos faltantes\n",
    "\n",
    "plt.figure(figsize = (10, 5))\n",
    "sns.heatmap(emisiones.isnull(), yticklabels = False, cmap = 'crest')\n",
    "\n",
    "# determinamos que no hay valores faltantes"
   ]
  },
  {
   "cell_type": "code",
   "execution_count": 38,
   "id": "25086bf6",
   "metadata": {},
   "outputs": [
    {
     "data": {
      "text/html": [
       "<div>\n",
       "<style scoped>\n",
       "    .dataframe tbody tr th:only-of-type {\n",
       "        vertical-align: middle;\n",
       "    }\n",
       "\n",
       "    .dataframe tbody tr th {\n",
       "        vertical-align: top;\n",
       "    }\n",
       "\n",
       "    .dataframe thead th {\n",
       "        text-align: right;\n",
       "    }\n",
       "</style>\n",
       "<table border=\"1\" class=\"dataframe\">\n",
       "  <thead>\n",
       "    <tr style=\"text-align: right;\">\n",
       "      <th></th>\n",
       "      <th>MODELYEAR</th>\n",
       "      <th>ENGINESIZE</th>\n",
       "      <th>CYLINDERS</th>\n",
       "      <th>FUELCONSUMPTION_CITY</th>\n",
       "      <th>FUELCONSUMPTION_HWY</th>\n",
       "      <th>FUELCONSUMPTION_COMB</th>\n",
       "      <th>FUELCONSUMPTION_COMB_MPG</th>\n",
       "      <th>CO2EMISSIONS</th>\n",
       "    </tr>\n",
       "  </thead>\n",
       "  <tbody>\n",
       "    <tr>\n",
       "      <th>0</th>\n",
       "      <td>2022</td>\n",
       "      <td>2.4</td>\n",
       "      <td>4</td>\n",
       "      <td>9.9</td>\n",
       "      <td>7.0</td>\n",
       "      <td>8.6</td>\n",
       "      <td>33</td>\n",
       "      <td>200</td>\n",
       "    </tr>\n",
       "    <tr>\n",
       "      <th>1</th>\n",
       "      <td>2022</td>\n",
       "      <td>3.5</td>\n",
       "      <td>6</td>\n",
       "      <td>12.6</td>\n",
       "      <td>9.4</td>\n",
       "      <td>11.2</td>\n",
       "      <td>25</td>\n",
       "      <td>263</td>\n",
       "    </tr>\n",
       "    <tr>\n",
       "      <th>2</th>\n",
       "      <td>2022</td>\n",
       "      <td>2.0</td>\n",
       "      <td>4</td>\n",
       "      <td>11.0</td>\n",
       "      <td>8.6</td>\n",
       "      <td>9.9</td>\n",
       "      <td>29</td>\n",
       "      <td>232</td>\n",
       "    </tr>\n",
       "    <tr>\n",
       "      <th>3</th>\n",
       "      <td>2022</td>\n",
       "      <td>2.0</td>\n",
       "      <td>4</td>\n",
       "      <td>11.3</td>\n",
       "      <td>9.1</td>\n",
       "      <td>10.3</td>\n",
       "      <td>27</td>\n",
       "      <td>242</td>\n",
       "    </tr>\n",
       "    <tr>\n",
       "      <th>4</th>\n",
       "      <td>2022</td>\n",
       "      <td>2.0</td>\n",
       "      <td>4</td>\n",
       "      <td>11.2</td>\n",
       "      <td>8.0</td>\n",
       "      <td>9.8</td>\n",
       "      <td>29</td>\n",
       "      <td>230</td>\n",
       "    </tr>\n",
       "    <tr>\n",
       "      <th>...</th>\n",
       "      <td>...</td>\n",
       "      <td>...</td>\n",
       "      <td>...</td>\n",
       "      <td>...</td>\n",
       "      <td>...</td>\n",
       "      <td>...</td>\n",
       "      <td>...</td>\n",
       "      <td>...</td>\n",
       "    </tr>\n",
       "    <tr>\n",
       "      <th>940</th>\n",
       "      <td>2022</td>\n",
       "      <td>2.0</td>\n",
       "      <td>4</td>\n",
       "      <td>10.7</td>\n",
       "      <td>7.7</td>\n",
       "      <td>9.4</td>\n",
       "      <td>30</td>\n",
       "      <td>219</td>\n",
       "    </tr>\n",
       "    <tr>\n",
       "      <th>941</th>\n",
       "      <td>2022</td>\n",
       "      <td>2.0</td>\n",
       "      <td>4</td>\n",
       "      <td>10.5</td>\n",
       "      <td>8.1</td>\n",
       "      <td>9.4</td>\n",
       "      <td>30</td>\n",
       "      <td>219</td>\n",
       "    </tr>\n",
       "    <tr>\n",
       "      <th>942</th>\n",
       "      <td>2022</td>\n",
       "      <td>2.0</td>\n",
       "      <td>4</td>\n",
       "      <td>11.0</td>\n",
       "      <td>8.7</td>\n",
       "      <td>9.9</td>\n",
       "      <td>29</td>\n",
       "      <td>232</td>\n",
       "    </tr>\n",
       "    <tr>\n",
       "      <th>943</th>\n",
       "      <td>2022</td>\n",
       "      <td>2.0</td>\n",
       "      <td>4</td>\n",
       "      <td>11.5</td>\n",
       "      <td>8.4</td>\n",
       "      <td>10.1</td>\n",
       "      <td>28</td>\n",
       "      <td>236</td>\n",
       "    </tr>\n",
       "    <tr>\n",
       "      <th>944</th>\n",
       "      <td>2022</td>\n",
       "      <td>2.0</td>\n",
       "      <td>4</td>\n",
       "      <td>12.4</td>\n",
       "      <td>8.9</td>\n",
       "      <td>10.8</td>\n",
       "      <td>26</td>\n",
       "      <td>252</td>\n",
       "    </tr>\n",
       "  </tbody>\n",
       "</table>\n",
       "<p>945 rows × 8 columns</p>\n",
       "</div>"
      ],
      "text/plain": [
       "     MODELYEAR  ENGINESIZE  CYLINDERS  FUELCONSUMPTION_CITY  \\\n",
       "0         2022         2.4          4                   9.9   \n",
       "1         2022         3.5          6                  12.6   \n",
       "2         2022         2.0          4                  11.0   \n",
       "3         2022         2.0          4                  11.3   \n",
       "4         2022         2.0          4                  11.2   \n",
       "..         ...         ...        ...                   ...   \n",
       "940       2022         2.0          4                  10.7   \n",
       "941       2022         2.0          4                  10.5   \n",
       "942       2022         2.0          4                  11.0   \n",
       "943       2022         2.0          4                  11.5   \n",
       "944       2022         2.0          4                  12.4   \n",
       "\n",
       "     FUELCONSUMPTION_HWY  FUELCONSUMPTION_COMB  FUELCONSUMPTION_COMB_MPG  \\\n",
       "0                    7.0                   8.6                        33   \n",
       "1                    9.4                  11.2                        25   \n",
       "2                    8.6                   9.9                        29   \n",
       "3                    9.1                  10.3                        27   \n",
       "4                    8.0                   9.8                        29   \n",
       "..                   ...                   ...                       ...   \n",
       "940                  7.7                   9.4                        30   \n",
       "941                  8.1                   9.4                        30   \n",
       "942                  8.7                   9.9                        29   \n",
       "943                  8.4                  10.1                        28   \n",
       "944                  8.9                  10.8                        26   \n",
       "\n",
       "     CO2EMISSIONS  \n",
       "0             200  \n",
       "1             263  \n",
       "2             232  \n",
       "3             242  \n",
       "4             230  \n",
       "..            ...  \n",
       "940           219  \n",
       "941           219  \n",
       "942           232  \n",
       "943           236  \n",
       "944           252  \n",
       "\n",
       "[945 rows x 8 columns]"
      ]
     },
     "execution_count": 38,
     "metadata": {},
     "output_type": "execute_result"
    }
   ],
   "source": [
    "# eiliminamos variables categoricas\n",
    "\n",
    "emisiones.drop(['MAKE','MODEL','VEHICLECLASS','TRANSMISSION','FUELTYPE'], axis = 1, inplace = True)\n",
    "emisiones"
   ]
  },
  {
   "cell_type": "code",
   "execution_count": 11,
   "id": "8fd25758",
   "metadata": {},
   "outputs": [
    {
     "data": {
      "text/plain": [
       "(946, 8)"
      ]
     },
     "execution_count": 11,
     "metadata": {},
     "output_type": "execute_result"
    }
   ],
   "source": [
    "emisiones.shape"
   ]
  },
  {
   "cell_type": "code",
   "execution_count": 39,
   "id": "d7c32506",
   "metadata": {},
   "outputs": [],
   "source": [
    "# definimos los valores para 'X', 'y'\n",
    "\n",
    "X = emisiones.drop('CO2EMISSIONS', axis = 1)\n",
    "y = emisiones['CO2EMISSIONS']"
   ]
  },
  {
   "cell_type": "code",
   "execution_count": 40,
   "id": "047521c1",
   "metadata": {},
   "outputs": [
    {
     "data": {
      "text/html": [
       "<div>\n",
       "<style scoped>\n",
       "    .dataframe tbody tr th:only-of-type {\n",
       "        vertical-align: middle;\n",
       "    }\n",
       "\n",
       "    .dataframe tbody tr th {\n",
       "        vertical-align: top;\n",
       "    }\n",
       "\n",
       "    .dataframe thead th {\n",
       "        text-align: right;\n",
       "    }\n",
       "</style>\n",
       "<table border=\"1\" class=\"dataframe\">\n",
       "  <thead>\n",
       "    <tr style=\"text-align: right;\">\n",
       "      <th></th>\n",
       "      <th>MODELYEAR</th>\n",
       "      <th>ENGINESIZE</th>\n",
       "      <th>CYLINDERS</th>\n",
       "      <th>FUELCONSUMPTION_CITY</th>\n",
       "      <th>FUELCONSUMPTION_HWY</th>\n",
       "      <th>FUELCONSUMPTION_COMB</th>\n",
       "      <th>FUELCONSUMPTION_COMB_MPG</th>\n",
       "    </tr>\n",
       "  </thead>\n",
       "  <tbody>\n",
       "    <tr>\n",
       "      <th>0</th>\n",
       "      <td>2022</td>\n",
       "      <td>2.4</td>\n",
       "      <td>4</td>\n",
       "      <td>9.9</td>\n",
       "      <td>7.0</td>\n",
       "      <td>8.6</td>\n",
       "      <td>33</td>\n",
       "    </tr>\n",
       "    <tr>\n",
       "      <th>1</th>\n",
       "      <td>2022</td>\n",
       "      <td>3.5</td>\n",
       "      <td>6</td>\n",
       "      <td>12.6</td>\n",
       "      <td>9.4</td>\n",
       "      <td>11.2</td>\n",
       "      <td>25</td>\n",
       "    </tr>\n",
       "    <tr>\n",
       "      <th>2</th>\n",
       "      <td>2022</td>\n",
       "      <td>2.0</td>\n",
       "      <td>4</td>\n",
       "      <td>11.0</td>\n",
       "      <td>8.6</td>\n",
       "      <td>9.9</td>\n",
       "      <td>29</td>\n",
       "    </tr>\n",
       "    <tr>\n",
       "      <th>3</th>\n",
       "      <td>2022</td>\n",
       "      <td>2.0</td>\n",
       "      <td>4</td>\n",
       "      <td>11.3</td>\n",
       "      <td>9.1</td>\n",
       "      <td>10.3</td>\n",
       "      <td>27</td>\n",
       "    </tr>\n",
       "    <tr>\n",
       "      <th>4</th>\n",
       "      <td>2022</td>\n",
       "      <td>2.0</td>\n",
       "      <td>4</td>\n",
       "      <td>11.2</td>\n",
       "      <td>8.0</td>\n",
       "      <td>9.8</td>\n",
       "      <td>29</td>\n",
       "    </tr>\n",
       "    <tr>\n",
       "      <th>...</th>\n",
       "      <td>...</td>\n",
       "      <td>...</td>\n",
       "      <td>...</td>\n",
       "      <td>...</td>\n",
       "      <td>...</td>\n",
       "      <td>...</td>\n",
       "      <td>...</td>\n",
       "    </tr>\n",
       "    <tr>\n",
       "      <th>940</th>\n",
       "      <td>2022</td>\n",
       "      <td>2.0</td>\n",
       "      <td>4</td>\n",
       "      <td>10.7</td>\n",
       "      <td>7.7</td>\n",
       "      <td>9.4</td>\n",
       "      <td>30</td>\n",
       "    </tr>\n",
       "    <tr>\n",
       "      <th>941</th>\n",
       "      <td>2022</td>\n",
       "      <td>2.0</td>\n",
       "      <td>4</td>\n",
       "      <td>10.5</td>\n",
       "      <td>8.1</td>\n",
       "      <td>9.4</td>\n",
       "      <td>30</td>\n",
       "    </tr>\n",
       "    <tr>\n",
       "      <th>942</th>\n",
       "      <td>2022</td>\n",
       "      <td>2.0</td>\n",
       "      <td>4</td>\n",
       "      <td>11.0</td>\n",
       "      <td>8.7</td>\n",
       "      <td>9.9</td>\n",
       "      <td>29</td>\n",
       "    </tr>\n",
       "    <tr>\n",
       "      <th>943</th>\n",
       "      <td>2022</td>\n",
       "      <td>2.0</td>\n",
       "      <td>4</td>\n",
       "      <td>11.5</td>\n",
       "      <td>8.4</td>\n",
       "      <td>10.1</td>\n",
       "      <td>28</td>\n",
       "    </tr>\n",
       "    <tr>\n",
       "      <th>944</th>\n",
       "      <td>2022</td>\n",
       "      <td>2.0</td>\n",
       "      <td>4</td>\n",
       "      <td>12.4</td>\n",
       "      <td>8.9</td>\n",
       "      <td>10.8</td>\n",
       "      <td>26</td>\n",
       "    </tr>\n",
       "  </tbody>\n",
       "</table>\n",
       "<p>945 rows × 7 columns</p>\n",
       "</div>"
      ],
      "text/plain": [
       "     MODELYEAR  ENGINESIZE  CYLINDERS  FUELCONSUMPTION_CITY  \\\n",
       "0         2022         2.4          4                   9.9   \n",
       "1         2022         3.5          6                  12.6   \n",
       "2         2022         2.0          4                  11.0   \n",
       "3         2022         2.0          4                  11.3   \n",
       "4         2022         2.0          4                  11.2   \n",
       "..         ...         ...        ...                   ...   \n",
       "940       2022         2.0          4                  10.7   \n",
       "941       2022         2.0          4                  10.5   \n",
       "942       2022         2.0          4                  11.0   \n",
       "943       2022         2.0          4                  11.5   \n",
       "944       2022         2.0          4                  12.4   \n",
       "\n",
       "     FUELCONSUMPTION_HWY  FUELCONSUMPTION_COMB  FUELCONSUMPTION_COMB_MPG  \n",
       "0                    7.0                   8.6                        33  \n",
       "1                    9.4                  11.2                        25  \n",
       "2                    8.6                   9.9                        29  \n",
       "3                    9.1                  10.3                        27  \n",
       "4                    8.0                   9.8                        29  \n",
       "..                   ...                   ...                       ...  \n",
       "940                  7.7                   9.4                        30  \n",
       "941                  8.1                   9.4                        30  \n",
       "942                  8.7                   9.9                        29  \n",
       "943                  8.4                  10.1                        28  \n",
       "944                  8.9                  10.8                        26  \n",
       "\n",
       "[945 rows x 7 columns]"
      ]
     },
     "execution_count": 40,
     "metadata": {},
     "output_type": "execute_result"
    }
   ],
   "source": [
    "X"
   ]
  },
  {
   "cell_type": "code",
   "execution_count": 41,
   "id": "90637fbc",
   "metadata": {},
   "outputs": [
    {
     "data": {
      "text/plain": [
       "0      200\n",
       "1      263\n",
       "2      232\n",
       "3      242\n",
       "4      230\n",
       "      ... \n",
       "940    219\n",
       "941    219\n",
       "942    232\n",
       "943    236\n",
       "944    252\n",
       "Name: CO2EMISSIONS, Length: 945, dtype: int64"
      ]
     },
     "execution_count": 41,
     "metadata": {},
     "output_type": "execute_result"
    }
   ],
   "source": [
    "y"
   ]
  },
  {
   "cell_type": "code",
   "execution_count": 50,
   "id": "76326dfc",
   "metadata": {},
   "outputs": [],
   "source": [
    "# Dividimos en grupos de entrenamiento(training) y prueb(test)\n",
    "\n",
    "from sklearn.model_selection import train_test_split\n",
    "\n",
    "X_train, X_test, y_train, y_test = train_test_split(X, y, test_size = 0.30, random_state = 1)"
   ]
  },
  {
   "cell_type": "markdown",
   "id": "ab485e69",
   "metadata": {},
   "source": [
    "CONSTRUCCION DE MODELO DE RESGRESION LINEAL MULTIPLE"
   ]
  },
  {
   "cell_type": "code",
   "execution_count": 51,
   "id": "e83ec37e",
   "metadata": {},
   "outputs": [],
   "source": [
    "from sklearn.linear_model import LinearRegression\n",
    "\n",
    "linreg = LinearRegression()"
   ]
  },
  {
   "cell_type": "code",
   "execution_count": 52,
   "id": "36e4ecb5",
   "metadata": {},
   "outputs": [
    {
     "data": {
      "text/html": [
       "<style>#sk-container-id-1 {color: black;}#sk-container-id-1 pre{padding: 0;}#sk-container-id-1 div.sk-toggleable {background-color: white;}#sk-container-id-1 label.sk-toggleable__label {cursor: pointer;display: block;width: 100%;margin-bottom: 0;padding: 0.3em;box-sizing: border-box;text-align: center;}#sk-container-id-1 label.sk-toggleable__label-arrow:before {content: \"▸\";float: left;margin-right: 0.25em;color: #696969;}#sk-container-id-1 label.sk-toggleable__label-arrow:hover:before {color: black;}#sk-container-id-1 div.sk-estimator:hover label.sk-toggleable__label-arrow:before {color: black;}#sk-container-id-1 div.sk-toggleable__content {max-height: 0;max-width: 0;overflow: hidden;text-align: left;background-color: #f0f8ff;}#sk-container-id-1 div.sk-toggleable__content pre {margin: 0.2em;color: black;border-radius: 0.25em;background-color: #f0f8ff;}#sk-container-id-1 input.sk-toggleable__control:checked~div.sk-toggleable__content {max-height: 200px;max-width: 100%;overflow: auto;}#sk-container-id-1 input.sk-toggleable__control:checked~label.sk-toggleable__label-arrow:before {content: \"▾\";}#sk-container-id-1 div.sk-estimator input.sk-toggleable__control:checked~label.sk-toggleable__label {background-color: #d4ebff;}#sk-container-id-1 div.sk-label input.sk-toggleable__control:checked~label.sk-toggleable__label {background-color: #d4ebff;}#sk-container-id-1 input.sk-hidden--visually {border: 0;clip: rect(1px 1px 1px 1px);clip: rect(1px, 1px, 1px, 1px);height: 1px;margin: -1px;overflow: hidden;padding: 0;position: absolute;width: 1px;}#sk-container-id-1 div.sk-estimator {font-family: monospace;background-color: #f0f8ff;border: 1px dotted black;border-radius: 0.25em;box-sizing: border-box;margin-bottom: 0.5em;}#sk-container-id-1 div.sk-estimator:hover {background-color: #d4ebff;}#sk-container-id-1 div.sk-parallel-item::after {content: \"\";width: 100%;border-bottom: 1px solid gray;flex-grow: 1;}#sk-container-id-1 div.sk-label:hover label.sk-toggleable__label {background-color: #d4ebff;}#sk-container-id-1 div.sk-serial::before {content: \"\";position: absolute;border-left: 1px solid gray;box-sizing: border-box;top: 0;bottom: 0;left: 50%;z-index: 0;}#sk-container-id-1 div.sk-serial {display: flex;flex-direction: column;align-items: center;background-color: white;padding-right: 0.2em;padding-left: 0.2em;position: relative;}#sk-container-id-1 div.sk-item {position: relative;z-index: 1;}#sk-container-id-1 div.sk-parallel {display: flex;align-items: stretch;justify-content: center;background-color: white;position: relative;}#sk-container-id-1 div.sk-item::before, #sk-container-id-1 div.sk-parallel-item::before {content: \"\";position: absolute;border-left: 1px solid gray;box-sizing: border-box;top: 0;bottom: 0;left: 50%;z-index: -1;}#sk-container-id-1 div.sk-parallel-item {display: flex;flex-direction: column;z-index: 1;position: relative;background-color: white;}#sk-container-id-1 div.sk-parallel-item:first-child::after {align-self: flex-end;width: 50%;}#sk-container-id-1 div.sk-parallel-item:last-child::after {align-self: flex-start;width: 50%;}#sk-container-id-1 div.sk-parallel-item:only-child::after {width: 0;}#sk-container-id-1 div.sk-dashed-wrapped {border: 1px dashed gray;margin: 0 0.4em 0.5em 0.4em;box-sizing: border-box;padding-bottom: 0.4em;background-color: white;}#sk-container-id-1 div.sk-label label {font-family: monospace;font-weight: bold;display: inline-block;line-height: 1.2em;}#sk-container-id-1 div.sk-label-container {text-align: center;}#sk-container-id-1 div.sk-container {/* jupyter's `normalize.less` sets `[hidden] { display: none; }` but bootstrap.min.css set `[hidden] { display: none !important; }` so we also need the `!important` here to be able to override the default hidden behavior on the sphinx rendered scikit-learn.org. See: https://github.com/scikit-learn/scikit-learn/issues/21755 */display: inline-block !important;position: relative;}#sk-container-id-1 div.sk-text-repr-fallback {display: none;}</style><div id=\"sk-container-id-1\" class=\"sk-top-container\"><div class=\"sk-text-repr-fallback\"><pre>LinearRegression()</pre><b>In a Jupyter environment, please rerun this cell to show the HTML representation or trust the notebook. <br />On GitHub, the HTML representation is unable to render, please try loading this page with nbviewer.org.</b></div><div class=\"sk-container\" hidden><div class=\"sk-item\"><div class=\"sk-estimator sk-toggleable\"><input class=\"sk-toggleable__control sk-hidden--visually\" id=\"sk-estimator-id-1\" type=\"checkbox\" checked><label for=\"sk-estimator-id-1\" class=\"sk-toggleable__label sk-toggleable__label-arrow\">LinearRegression</label><div class=\"sk-toggleable__content\"><pre>LinearRegression()</pre></div></div></div></div></div>"
      ],
      "text/plain": [
       "LinearRegression()"
      ]
     },
     "execution_count": 52,
     "metadata": {},
     "output_type": "execute_result"
    }
   ],
   "source": [
    "# entrenamos el modelo\n",
    "\n",
    "linreg.fit(X_train, y_train)"
   ]
  },
  {
   "cell_type": "markdown",
   "id": "d8ebcb5b",
   "metadata": {},
   "source": [
    "COEFEICIENTES DE REGRESION"
   ]
  },
  {
   "cell_type": "code",
   "execution_count": 54,
   "id": "882f5df4",
   "metadata": {},
   "outputs": [
    {
     "name": "stdout",
     "output_type": "stream",
     "text": [
      "Intercepto:  124.05613100622463\n",
      "Coeficientes:  [ 0.         -0.01515148  6.43036425 -1.32628678  0.52702525 14.53834062\n",
      " -1.88292508]\n"
     ]
    }
   ],
   "source": [
    "print('Intercepto: ', linreg.intercept_)\n",
    "print('Coeficientes: ', linreg.coef_)"
   ]
  },
  {
   "cell_type": "code",
   "execution_count": 55,
   "id": "65c384fd",
   "metadata": {},
   "outputs": [
    {
     "data": {
      "text/plain": [
       "array([318.82062694, 322.84703822, 345.23551728, 174.78239603,\n",
       "       196.73994807, 250.37345085, 240.2772048 , 332.29424162,\n",
       "       327.80185548, 173.64652185, 275.75871276, 227.67606101,\n",
       "       323.15858211, 264.7147751 , 175.92922152, 267.50620255,\n",
       "       162.5548175 , 220.68619289, 337.80918664, 326.56057625,\n",
       "       322.84703822, 339.48137878, 259.20584163, 220.68619289,\n",
       "       339.76297512, 201.8255166 , 364.62108712, 334.53095579,\n",
       "       286.6535063 , 137.95706661, 179.28808399, 175.92922152,\n",
       "       238.60801519, 291.97541448, 312.36078823, 291.32632034,\n",
       "       330.50151422, 317.77510602, 327.80185548, 218.69601311,\n",
       "       302.19635808, 294.44143376, 228.58586706, 182.33789374,\n",
       "       170.20435766, 247.91950372, 193.35806215, 343.30481828,\n",
       "       152.91430008, 184.32703834, 291.68467823, 239.45777535,\n",
       "       170.44542168, 262.19926692, 112.39018005, 312.507081  ,\n",
       "       343.13766885, 335.91261837, 307.08026329, 385.77737538,\n",
       "       198.41216797, 150.50258803, 186.61208853, 304.78932457,\n",
       "       187.11537961, 349.00059809, 188.11862511, 165.81165049,\n",
       "       244.98938699, 324.65037165, 306.78351547, 275.33686298,\n",
       "       221.2057952 , 179.22780572, 238.46210558, 253.6321335 ,\n",
       "       322.84703822, 218.88892005, 258.41939003, 269.44671011,\n",
       "       284.32887648, 340.98791537, 214.21456751, 228.96259006,\n",
       "       278.14495706, 229.01529258, 123.33142935, 294.4804722 ,\n",
       "       247.07149108, 222.1550554 , 223.67617658, 189.33601738,\n",
       "       147.35690316, 213.98868272, 283.34042705, 174.07746252,\n",
       "       339.67279833, 182.91557938, 258.47681693, 251.50932504,\n",
       "       285.10166399, 238.89929018, 206.4562575 , 180.08211133,\n",
       "       226.65748069, 240.73385395, 192.16948544, 182.91406423,\n",
       "       352.90246986, 221.76936454, 231.54916587, 238.98473819,\n",
       "       343.30481828, 206.40355497, 193.73698007, 294.91366903,\n",
       "       216.24078319, 351.91440359, 227.10375618, 307.633582  ,\n",
       "       248.58393268, 326.56057625, 206.50896003, 175.02346005,\n",
       "       266.88271034, 239.79507675, 180.39855606, 199.27520906,\n",
       "       224.33757524, 228.58738221,  81.11616643, 290.49610152,\n",
       "       193.40318893, 253.6077078 , 352.90246986, 365.56574598,\n",
       "       175.92922152, 303.02256137, 291.84119387, 247.91950372,\n",
       "       365.56574598, 215.44675586, 337.49782167, 188.51810308,\n",
       "       262.19911134, 326.34036889, 261.82860451, 197.35621995,\n",
       "       244.69433767, 249.15454344, 212.40820378, 305.51834928,\n",
       "       112.99887618, 338.41788277, 294.44143376, 191.99021483,\n",
       "       277.6688896 , 209.1877621 , 212.82550812, 227.87184266,\n",
       "       262.19911134, 268.05916587, 262.79887217, 259.2135963 ,\n",
       "       284.86211512, 191.5607893 , 352.13880099, 249.15454344,\n",
       "       348.04548191, 228.95501432, 259.20584163, 182.77537497,\n",
       "       303.64115028, 256.48039763, 300.67517658, 388.71052241,\n",
       "       275.90043233, 363.60001524, 290.00172926, 144.28540138,\n",
       "       220.15742291, 265.81767143, 267.24428186, 188.1637519 ,\n",
       "       221.67898794, 392.19966304, 176.53791766, 197.56543811,\n",
       "       253.97685505, 265.21806618, 217.77238738, 366.1697202 ,\n",
       "       232.60942697, 316.61953491, 197.98122731, 248.02490877,\n",
       "       218.406792  , 242.76916052, 291.97541448, 296.38461621,\n",
       "       245.6553311 , 259.86724029, 213.87120552, 392.19966304,\n",
       "       279.28537669, 275.96793093, 206.68671549, 338.41788277,\n",
       "       326.56057625, 277.45058055, 220.26282796, 312.42715484,\n",
       "       290.85767304, 227.62335848, 291.32632034, 247.04760412,\n",
       "       238.50435766, 160.99557839, 275.71964657, 352.90246986,\n",
       "       252.73429304, 270.28866216, 214.07284795, 220.43184794,\n",
       "       240.61959038, 194.09938696, 348.00038043, 196.43562452,\n",
       "       240.06359677, 273.7851996 , 207.8752922 , 303.58844776,\n",
       "       264.7147751 , 203.33205319, 259.20584163, 265.32365016,\n",
       "       296.38461621, 188.35665884, 192.1619097 , 285.88339123,\n",
       "       216.24078319, 213.83481422, 285.5762163 , 320.62832689,\n",
       "       216.0133555 , 207.78268811, 229.06799511, 322.8273413 ,\n",
       "       333.67682912, 173.69922437, 240.73385395, 187.21320892,\n",
       "       252.8142192 , 237.6635328 , 241.70230008, 259.81302262,\n",
       "       209.38940452, 326.73227112, 177.7136934 , 290.48701063,\n",
       "       209.76006693, 325.07088521, 320.14183232, 239.79507675,\n",
       "       159.9415568 , 245.25033128, 213.24735791, 226.3925297 ,\n",
       "       220.15742291, 182.90800364, 275.83530225, 162.76138853,\n",
       "       264.4674209 , 240.73385395, 258.47681693, 221.868709  ,\n",
       "       314.91266682, 265.89426092, 254.1517358 , 184.89060769,\n",
       "       266.88271034, 232.87476112, 252.30183723, 232.63672739])"
      ]
     },
     "execution_count": 55,
     "metadata": {},
     "output_type": "execute_result"
    }
   ],
   "source": [
    "# realizamos predicciones (probamos modelo)\n",
    "\n",
    "linregpred = linreg.predict(X_test)\n",
    "linregpred"
   ]
  },
  {
   "cell_type": "markdown",
   "id": "f45cd593",
   "metadata": {},
   "source": [
    "AJUSTAMOS EL MODELO CON METRICAS"
   ]
  },
  {
   "cell_type": "code",
   "execution_count": 57,
   "id": "ddb721f3",
   "metadata": {},
   "outputs": [],
   "source": [
    "from sklearn.metrics import r2_score\n",
    "from sklearn import metrics"
   ]
  },
  {
   "cell_type": "code",
   "execution_count": 60,
   "id": "42a18639",
   "metadata": {},
   "outputs": [
    {
     "name": "stdout",
     "output_type": "stream",
     "text": [
      "Valor de R2:  0.9775327964689398\n",
      "Error Absoluto Medio:  6.4183220979861755\n",
      "Error Cuadrartico Medio:  85.97881014782169\n",
      "Raiz del Error Caudratico Medio:  9.272475944849988\n"
     ]
    }
   ],
   "source": [
    "# probamos las metricas \n",
    "\n",
    "print('Valor de R2: ', r2_score(y_test, linregpred))\n",
    "print('Error Absoluto Medio: ', metrics.mean_absolute_error(y_test, linregpred))\n",
    "print('Error Cuadrartico Medio: ', metrics.mean_squared_error(y_test, linregpred))\n",
    "print('Raiz del Error Caudratico Medio: ', np.sqrt(metrics.mean_squared_error(y_test, linregpred)))"
   ]
  },
  {
   "cell_type": "markdown",
   "id": "7722922f",
   "metadata": {},
   "source": [
    "REGRESION RIDGE"
   ]
  },
  {
   "cell_type": "code",
   "execution_count": 61,
   "id": "32116a63",
   "metadata": {},
   "outputs": [],
   "source": [
    "from sklearn.linear_model import Ridge"
   ]
  },
  {
   "cell_type": "code",
   "execution_count": 68,
   "id": "3b9c9e95",
   "metadata": {},
   "outputs": [
    {
     "data": {
      "text/html": [
       "<style>#sk-container-id-2 {color: black;}#sk-container-id-2 pre{padding: 0;}#sk-container-id-2 div.sk-toggleable {background-color: white;}#sk-container-id-2 label.sk-toggleable__label {cursor: pointer;display: block;width: 100%;margin-bottom: 0;padding: 0.3em;box-sizing: border-box;text-align: center;}#sk-container-id-2 label.sk-toggleable__label-arrow:before {content: \"▸\";float: left;margin-right: 0.25em;color: #696969;}#sk-container-id-2 label.sk-toggleable__label-arrow:hover:before {color: black;}#sk-container-id-2 div.sk-estimator:hover label.sk-toggleable__label-arrow:before {color: black;}#sk-container-id-2 div.sk-toggleable__content {max-height: 0;max-width: 0;overflow: hidden;text-align: left;background-color: #f0f8ff;}#sk-container-id-2 div.sk-toggleable__content pre {margin: 0.2em;color: black;border-radius: 0.25em;background-color: #f0f8ff;}#sk-container-id-2 input.sk-toggleable__control:checked~div.sk-toggleable__content {max-height: 200px;max-width: 100%;overflow: auto;}#sk-container-id-2 input.sk-toggleable__control:checked~label.sk-toggleable__label-arrow:before {content: \"▾\";}#sk-container-id-2 div.sk-estimator input.sk-toggleable__control:checked~label.sk-toggleable__label {background-color: #d4ebff;}#sk-container-id-2 div.sk-label input.sk-toggleable__control:checked~label.sk-toggleable__label {background-color: #d4ebff;}#sk-container-id-2 input.sk-hidden--visually {border: 0;clip: rect(1px 1px 1px 1px);clip: rect(1px, 1px, 1px, 1px);height: 1px;margin: -1px;overflow: hidden;padding: 0;position: absolute;width: 1px;}#sk-container-id-2 div.sk-estimator {font-family: monospace;background-color: #f0f8ff;border: 1px dotted black;border-radius: 0.25em;box-sizing: border-box;margin-bottom: 0.5em;}#sk-container-id-2 div.sk-estimator:hover {background-color: #d4ebff;}#sk-container-id-2 div.sk-parallel-item::after {content: \"\";width: 100%;border-bottom: 1px solid gray;flex-grow: 1;}#sk-container-id-2 div.sk-label:hover label.sk-toggleable__label {background-color: #d4ebff;}#sk-container-id-2 div.sk-serial::before {content: \"\";position: absolute;border-left: 1px solid gray;box-sizing: border-box;top: 0;bottom: 0;left: 50%;z-index: 0;}#sk-container-id-2 div.sk-serial {display: flex;flex-direction: column;align-items: center;background-color: white;padding-right: 0.2em;padding-left: 0.2em;position: relative;}#sk-container-id-2 div.sk-item {position: relative;z-index: 1;}#sk-container-id-2 div.sk-parallel {display: flex;align-items: stretch;justify-content: center;background-color: white;position: relative;}#sk-container-id-2 div.sk-item::before, #sk-container-id-2 div.sk-parallel-item::before {content: \"\";position: absolute;border-left: 1px solid gray;box-sizing: border-box;top: 0;bottom: 0;left: 50%;z-index: -1;}#sk-container-id-2 div.sk-parallel-item {display: flex;flex-direction: column;z-index: 1;position: relative;background-color: white;}#sk-container-id-2 div.sk-parallel-item:first-child::after {align-self: flex-end;width: 50%;}#sk-container-id-2 div.sk-parallel-item:last-child::after {align-self: flex-start;width: 50%;}#sk-container-id-2 div.sk-parallel-item:only-child::after {width: 0;}#sk-container-id-2 div.sk-dashed-wrapped {border: 1px dashed gray;margin: 0 0.4em 0.5em 0.4em;box-sizing: border-box;padding-bottom: 0.4em;background-color: white;}#sk-container-id-2 div.sk-label label {font-family: monospace;font-weight: bold;display: inline-block;line-height: 1.2em;}#sk-container-id-2 div.sk-label-container {text-align: center;}#sk-container-id-2 div.sk-container {/* jupyter's `normalize.less` sets `[hidden] { display: none; }` but bootstrap.min.css set `[hidden] { display: none !important; }` so we also need the `!important` here to be able to override the default hidden behavior on the sphinx rendered scikit-learn.org. See: https://github.com/scikit-learn/scikit-learn/issues/21755 */display: inline-block !important;position: relative;}#sk-container-id-2 div.sk-text-repr-fallback {display: none;}</style><div id=\"sk-container-id-2\" class=\"sk-top-container\"><div class=\"sk-text-repr-fallback\"><pre>Ridge(alpha=0.1)</pre><b>In a Jupyter environment, please rerun this cell to show the HTML representation or trust the notebook. <br />On GitHub, the HTML representation is unable to render, please try loading this page with nbviewer.org.</b></div><div class=\"sk-container\" hidden><div class=\"sk-item\"><div class=\"sk-estimator sk-toggleable\"><input class=\"sk-toggleable__control sk-hidden--visually\" id=\"sk-estimator-id-2\" type=\"checkbox\" checked><label for=\"sk-estimator-id-2\" class=\"sk-toggleable__label sk-toggleable__label-arrow\">Ridge</label><div class=\"sk-toggleable__content\"><pre>Ridge(alpha=0.1)</pre></div></div></div></div></div>"
      ],
      "text/plain": [
       "Ridge(alpha=0.1)"
      ]
     },
     "execution_count": 68,
     "metadata": {},
     "output_type": "execute_result"
    }
   ],
   "source": [
    "# probamos con un valor de alpha = 1\n",
    "\n",
    "ridgereg = Ridge(alpha = 0.1)\n",
    "\n",
    "# entrenamos el modelo\n",
    "\n",
    "ridgereg.fit(X_train, y_train)\n"
   ]
  },
  {
   "cell_type": "code",
   "execution_count": 69,
   "id": "12a6d9c7",
   "metadata": {},
   "outputs": [],
   "source": [
    "\n",
    "# realizamos predicciones\n",
    "\n",
    "ridgeregpred = ridgereg.predict(X_test)"
   ]
  },
  {
   "cell_type": "code",
   "execution_count": 70,
   "id": "13b03e37",
   "metadata": {},
   "outputs": [
    {
     "name": "stdout",
     "output_type": "stream",
     "text": [
      "Valor de R2:  0.9775405388157286\n",
      "Error Absoluto Medio:  6.415135896250665\n",
      "Error Cuadrartico Medio:  85.94918128173981\n",
      "Raiz del Error Caudratico Medio:  9.27087812894441\n"
     ]
    }
   ],
   "source": [
    "# probamos con las metricas de ajuste\n",
    "\n",
    "print('Valor de R2: ', r2_score(y_test, ridgeregpred))\n",
    "print('Error Absoluto Medio: ', metrics.mean_absolute_error(y_test, ridgeregpred))\n",
    "print('Error Cuadrartico Medio: ', metrics.mean_squared_error(y_test, ridgeregpred))\n",
    "print('Raiz del Error Caudratico Medio: ', np.sqrt(metrics.mean_squared_error(y_test, ridgeregpred)))"
   ]
  },
  {
   "cell_type": "markdown",
   "id": "d015a40d",
   "metadata": {},
   "source": [
    "COEFICIENTES DEL MODELO RIDGE"
   ]
  },
  {
   "cell_type": "code",
   "execution_count": 64,
   "id": "d4732bef",
   "metadata": {},
   "outputs": [
    {
     "name": "stdout",
     "output_type": "stream",
     "text": [
      "Intercepto:  123.99617710866374\n",
      "Coeficientes:  [ 0.         -0.017015    6.42593926 -0.50568931  1.19661489 13.05363848\n",
      " -1.88187263]\n"
     ]
    }
   ],
   "source": [
    "print('Intercepto: ', ridgereg.intercept_)\n",
    "print('Coeficientes: ', ridgereg.coef_)"
   ]
  },
  {
   "cell_type": "code",
   "execution_count": 71,
   "id": "6d1ca306",
   "metadata": {},
   "outputs": [
    {
     "data": {
      "text/plain": [
       "array([1.e-02, 1.e-01, 1.e+00, 1.e+01, 1.e+02])"
      ]
     },
     "execution_count": 71,
     "metadata": {},
     "output_type": "execute_result"
    }
   ],
   "source": [
    "# buscamos valor optimo de alpha\n",
    "\n",
    "alpha_range = 10. ** np.arange(-2, 3)\n",
    "alpha_range"
   ]
  },
  {
   "cell_type": "code",
   "execution_count": 72,
   "id": "898ec3e6",
   "metadata": {},
   "outputs": [],
   "source": [
    "# utilizamos CV para encontrar la combinacion del valor optimo\n",
    "\n",
    "from sklearn.linear_model import RidgeCV"
   ]
  },
  {
   "cell_type": "code",
   "execution_count": 73,
   "id": "eeaa45df",
   "metadata": {},
   "outputs": [],
   "source": [
    "ridgeregcv = RidgeCV(alphas = alpha_range)"
   ]
  },
  {
   "cell_type": "code",
   "execution_count": 74,
   "id": "df345a81",
   "metadata": {},
   "outputs": [
    {
     "data": {
      "text/plain": [
       "100.0"
      ]
     },
     "execution_count": 74,
     "metadata": {},
     "output_type": "execute_result"
    }
   ],
   "source": [
    "# entrenamos el modelo\n",
    "\n",
    "ridgeregcv.fit(X_train, y_train)\n",
    "ridgeregcv.alpha_"
   ]
  },
  {
   "cell_type": "code",
   "execution_count": 75,
   "id": "1d5da35d",
   "metadata": {},
   "outputs": [],
   "source": [
    "# realizamos la prediccion utilizando el mejor valor de alpha\n",
    "\n",
    "ridgeregcvpred = ridgeregcv.predict(X_test)"
   ]
  },
  {
   "cell_type": "code",
   "execution_count": 76,
   "id": "42128cb5",
   "metadata": {},
   "outputs": [
    {
     "name": "stdout",
     "output_type": "stream",
     "text": [
      "Valor de R2:  0.9779646398338884\n",
      "Error Absoluto Medio:  6.348640227898685\n",
      "Error Cuadrartico Medio:  84.32620667017098\n",
      "Raiz del Error Caudratico Medio:  9.182930178879232\n"
     ]
    }
   ],
   "source": [
    "# probamos con las metricas de ajuste\n",
    "\n",
    "print('Valor de R2: ', r2_score(y_test, ridgeregcvpred))\n",
    "print('Error Absoluto Medio: ', metrics.mean_absolute_error(y_test, ridgeregcvpred))\n",
    "print('Error Cuadrartico Medio: ', metrics.mean_squared_error(y_test, ridgeregcvpred))\n",
    "print('Raiz del Error Caudratico Medio: ', np.sqrt(metrics.mean_squared_error(y_test, ridgeregcvpred)))"
   ]
  },
  {
   "cell_type": "markdown",
   "id": "fae3f2c9",
   "metadata": {},
   "source": [
    "COEFICIENTES DE REGRESION DEL MODELO RIDGE USANDO CV"
   ]
  },
  {
   "cell_type": "code",
   "execution_count": 77,
   "id": "d7763153",
   "metadata": {},
   "outputs": [
    {
     "name": "stdout",
     "output_type": "stream",
     "text": [
      "Intercepto:  129.98702013615804\n",
      "Coeficientes:  [ 0.          1.15258677  5.30842335  4.44225152  4.49815493  4.55653156\n",
      " -1.95117901]\n"
     ]
    }
   ],
   "source": [
    "print('Intercepto: ', ridgeregcv.intercept_)\n",
    "print('Coeficientes: ', ridgeregcv.coef_)"
   ]
  },
  {
   "cell_type": "markdown",
   "id": "5406baec",
   "metadata": {},
   "source": [
    "# REGRESIÓN LASSO"
   ]
  },
  {
   "cell_type": "code",
   "execution_count": 78,
   "id": "176d259f",
   "metadata": {},
   "outputs": [],
   "source": [
    "# prueba con valor de alpha = 0.001\n",
    "\n",
    "from sklearn.linear_model import Lasso"
   ]
  },
  {
   "cell_type": "code",
   "execution_count": 79,
   "id": "0beb0db0",
   "metadata": {},
   "outputs": [],
   "source": [
    "lassoreg = Lasso(alpha = 0.001)"
   ]
  },
  {
   "cell_type": "code",
   "execution_count": 80,
   "id": "7863966b",
   "metadata": {},
   "outputs": [
    {
     "data": {
      "text/html": [
       "<style>#sk-container-id-3 {color: black;}#sk-container-id-3 pre{padding: 0;}#sk-container-id-3 div.sk-toggleable {background-color: white;}#sk-container-id-3 label.sk-toggleable__label {cursor: pointer;display: block;width: 100%;margin-bottom: 0;padding: 0.3em;box-sizing: border-box;text-align: center;}#sk-container-id-3 label.sk-toggleable__label-arrow:before {content: \"▸\";float: left;margin-right: 0.25em;color: #696969;}#sk-container-id-3 label.sk-toggleable__label-arrow:hover:before {color: black;}#sk-container-id-3 div.sk-estimator:hover label.sk-toggleable__label-arrow:before {color: black;}#sk-container-id-3 div.sk-toggleable__content {max-height: 0;max-width: 0;overflow: hidden;text-align: left;background-color: #f0f8ff;}#sk-container-id-3 div.sk-toggleable__content pre {margin: 0.2em;color: black;border-radius: 0.25em;background-color: #f0f8ff;}#sk-container-id-3 input.sk-toggleable__control:checked~div.sk-toggleable__content {max-height: 200px;max-width: 100%;overflow: auto;}#sk-container-id-3 input.sk-toggleable__control:checked~label.sk-toggleable__label-arrow:before {content: \"▾\";}#sk-container-id-3 div.sk-estimator input.sk-toggleable__control:checked~label.sk-toggleable__label {background-color: #d4ebff;}#sk-container-id-3 div.sk-label input.sk-toggleable__control:checked~label.sk-toggleable__label {background-color: #d4ebff;}#sk-container-id-3 input.sk-hidden--visually {border: 0;clip: rect(1px 1px 1px 1px);clip: rect(1px, 1px, 1px, 1px);height: 1px;margin: -1px;overflow: hidden;padding: 0;position: absolute;width: 1px;}#sk-container-id-3 div.sk-estimator {font-family: monospace;background-color: #f0f8ff;border: 1px dotted black;border-radius: 0.25em;box-sizing: border-box;margin-bottom: 0.5em;}#sk-container-id-3 div.sk-estimator:hover {background-color: #d4ebff;}#sk-container-id-3 div.sk-parallel-item::after {content: \"\";width: 100%;border-bottom: 1px solid gray;flex-grow: 1;}#sk-container-id-3 div.sk-label:hover label.sk-toggleable__label {background-color: #d4ebff;}#sk-container-id-3 div.sk-serial::before {content: \"\";position: absolute;border-left: 1px solid gray;box-sizing: border-box;top: 0;bottom: 0;left: 50%;z-index: 0;}#sk-container-id-3 div.sk-serial {display: flex;flex-direction: column;align-items: center;background-color: white;padding-right: 0.2em;padding-left: 0.2em;position: relative;}#sk-container-id-3 div.sk-item {position: relative;z-index: 1;}#sk-container-id-3 div.sk-parallel {display: flex;align-items: stretch;justify-content: center;background-color: white;position: relative;}#sk-container-id-3 div.sk-item::before, #sk-container-id-3 div.sk-parallel-item::before {content: \"\";position: absolute;border-left: 1px solid gray;box-sizing: border-box;top: 0;bottom: 0;left: 50%;z-index: -1;}#sk-container-id-3 div.sk-parallel-item {display: flex;flex-direction: column;z-index: 1;position: relative;background-color: white;}#sk-container-id-3 div.sk-parallel-item:first-child::after {align-self: flex-end;width: 50%;}#sk-container-id-3 div.sk-parallel-item:last-child::after {align-self: flex-start;width: 50%;}#sk-container-id-3 div.sk-parallel-item:only-child::after {width: 0;}#sk-container-id-3 div.sk-dashed-wrapped {border: 1px dashed gray;margin: 0 0.4em 0.5em 0.4em;box-sizing: border-box;padding-bottom: 0.4em;background-color: white;}#sk-container-id-3 div.sk-label label {font-family: monospace;font-weight: bold;display: inline-block;line-height: 1.2em;}#sk-container-id-3 div.sk-label-container {text-align: center;}#sk-container-id-3 div.sk-container {/* jupyter's `normalize.less` sets `[hidden] { display: none; }` but bootstrap.min.css set `[hidden] { display: none !important; }` so we also need the `!important` here to be able to override the default hidden behavior on the sphinx rendered scikit-learn.org. See: https://github.com/scikit-learn/scikit-learn/issues/21755 */display: inline-block !important;position: relative;}#sk-container-id-3 div.sk-text-repr-fallback {display: none;}</style><div id=\"sk-container-id-3\" class=\"sk-top-container\"><div class=\"sk-text-repr-fallback\"><pre>Lasso(alpha=0.001)</pre><b>In a Jupyter environment, please rerun this cell to show the HTML representation or trust the notebook. <br />On GitHub, the HTML representation is unable to render, please try loading this page with nbviewer.org.</b></div><div class=\"sk-container\" hidden><div class=\"sk-item\"><div class=\"sk-estimator sk-toggleable\"><input class=\"sk-toggleable__control sk-hidden--visually\" id=\"sk-estimator-id-3\" type=\"checkbox\" checked><label for=\"sk-estimator-id-3\" class=\"sk-toggleable__label sk-toggleable__label-arrow\">Lasso</label><div class=\"sk-toggleable__content\"><pre>Lasso(alpha=0.001)</pre></div></div></div></div></div>"
      ],
      "text/plain": [
       "Lasso(alpha=0.001)"
      ]
     },
     "execution_count": 80,
     "metadata": {},
     "output_type": "execute_result"
    }
   ],
   "source": [
    "# entrenamos el modelo\n",
    "\n",
    "lassoreg.fit(X_train, y_train)"
   ]
  },
  {
   "cell_type": "markdown",
   "id": "c64f17a3",
   "metadata": {},
   "source": [
    "COEFICIENTES DE REGRESION DEL MODELO LASSO"
   ]
  },
  {
   "cell_type": "code",
   "execution_count": 81,
   "id": "d2f5f882",
   "metadata": {},
   "outputs": [
    {
     "name": "stdout",
     "output_type": "stream",
     "text": [
      "Intercepto:  123.13486003787818\n",
      "Coeficientes:  [ 0.         -0.05568687  6.39362175  7.1821322   7.48383257 -0.85056791\n",
      " -1.86749083]\n"
     ]
    }
   ],
   "source": [
    "print('Intercepto: ', lassoreg.intercept_)\n",
    "print('Coeficientes: ', lassoreg.coef_)"
   ]
  },
  {
   "cell_type": "code",
   "execution_count": 82,
   "id": "be1c73fe",
   "metadata": {},
   "outputs": [],
   "source": [
    "# prueba con alpha = 0.01\n",
    "\n",
    "lassoreg = Lasso(alpha = 0.01)"
   ]
  },
  {
   "cell_type": "code",
   "execution_count": 83,
   "id": "d98e87c1",
   "metadata": {},
   "outputs": [
    {
     "data": {
      "text/html": [
       "<style>#sk-container-id-4 {color: black;}#sk-container-id-4 pre{padding: 0;}#sk-container-id-4 div.sk-toggleable {background-color: white;}#sk-container-id-4 label.sk-toggleable__label {cursor: pointer;display: block;width: 100%;margin-bottom: 0;padding: 0.3em;box-sizing: border-box;text-align: center;}#sk-container-id-4 label.sk-toggleable__label-arrow:before {content: \"▸\";float: left;margin-right: 0.25em;color: #696969;}#sk-container-id-4 label.sk-toggleable__label-arrow:hover:before {color: black;}#sk-container-id-4 div.sk-estimator:hover label.sk-toggleable__label-arrow:before {color: black;}#sk-container-id-4 div.sk-toggleable__content {max-height: 0;max-width: 0;overflow: hidden;text-align: left;background-color: #f0f8ff;}#sk-container-id-4 div.sk-toggleable__content pre {margin: 0.2em;color: black;border-radius: 0.25em;background-color: #f0f8ff;}#sk-container-id-4 input.sk-toggleable__control:checked~div.sk-toggleable__content {max-height: 200px;max-width: 100%;overflow: auto;}#sk-container-id-4 input.sk-toggleable__control:checked~label.sk-toggleable__label-arrow:before {content: \"▾\";}#sk-container-id-4 div.sk-estimator input.sk-toggleable__control:checked~label.sk-toggleable__label {background-color: #d4ebff;}#sk-container-id-4 div.sk-label input.sk-toggleable__control:checked~label.sk-toggleable__label {background-color: #d4ebff;}#sk-container-id-4 input.sk-hidden--visually {border: 0;clip: rect(1px 1px 1px 1px);clip: rect(1px, 1px, 1px, 1px);height: 1px;margin: -1px;overflow: hidden;padding: 0;position: absolute;width: 1px;}#sk-container-id-4 div.sk-estimator {font-family: monospace;background-color: #f0f8ff;border: 1px dotted black;border-radius: 0.25em;box-sizing: border-box;margin-bottom: 0.5em;}#sk-container-id-4 div.sk-estimator:hover {background-color: #d4ebff;}#sk-container-id-4 div.sk-parallel-item::after {content: \"\";width: 100%;border-bottom: 1px solid gray;flex-grow: 1;}#sk-container-id-4 div.sk-label:hover label.sk-toggleable__label {background-color: #d4ebff;}#sk-container-id-4 div.sk-serial::before {content: \"\";position: absolute;border-left: 1px solid gray;box-sizing: border-box;top: 0;bottom: 0;left: 50%;z-index: 0;}#sk-container-id-4 div.sk-serial {display: flex;flex-direction: column;align-items: center;background-color: white;padding-right: 0.2em;padding-left: 0.2em;position: relative;}#sk-container-id-4 div.sk-item {position: relative;z-index: 1;}#sk-container-id-4 div.sk-parallel {display: flex;align-items: stretch;justify-content: center;background-color: white;position: relative;}#sk-container-id-4 div.sk-item::before, #sk-container-id-4 div.sk-parallel-item::before {content: \"\";position: absolute;border-left: 1px solid gray;box-sizing: border-box;top: 0;bottom: 0;left: 50%;z-index: -1;}#sk-container-id-4 div.sk-parallel-item {display: flex;flex-direction: column;z-index: 1;position: relative;background-color: white;}#sk-container-id-4 div.sk-parallel-item:first-child::after {align-self: flex-end;width: 50%;}#sk-container-id-4 div.sk-parallel-item:last-child::after {align-self: flex-start;width: 50%;}#sk-container-id-4 div.sk-parallel-item:only-child::after {width: 0;}#sk-container-id-4 div.sk-dashed-wrapped {border: 1px dashed gray;margin: 0 0.4em 0.5em 0.4em;box-sizing: border-box;padding-bottom: 0.4em;background-color: white;}#sk-container-id-4 div.sk-label label {font-family: monospace;font-weight: bold;display: inline-block;line-height: 1.2em;}#sk-container-id-4 div.sk-label-container {text-align: center;}#sk-container-id-4 div.sk-container {/* jupyter's `normalize.less` sets `[hidden] { display: none; }` but bootstrap.min.css set `[hidden] { display: none !important; }` so we also need the `!important` here to be able to override the default hidden behavior on the sphinx rendered scikit-learn.org. See: https://github.com/scikit-learn/scikit-learn/issues/21755 */display: inline-block !important;position: relative;}#sk-container-id-4 div.sk-text-repr-fallback {display: none;}</style><div id=\"sk-container-id-4\" class=\"sk-top-container\"><div class=\"sk-text-repr-fallback\"><pre>Lasso(alpha=0.01)</pre><b>In a Jupyter environment, please rerun this cell to show the HTML representation or trust the notebook. <br />On GitHub, the HTML representation is unable to render, please try loading this page with nbviewer.org.</b></div><div class=\"sk-container\" hidden><div class=\"sk-item\"><div class=\"sk-estimator sk-toggleable\"><input class=\"sk-toggleable__control sk-hidden--visually\" id=\"sk-estimator-id-4\" type=\"checkbox\" checked><label for=\"sk-estimator-id-4\" class=\"sk-toggleable__label sk-toggleable__label-arrow\">Lasso</label><div class=\"sk-toggleable__content\"><pre>Lasso(alpha=0.01)</pre></div></div></div></div></div>"
      ],
      "text/plain": [
       "Lasso(alpha=0.01)"
      ]
     },
     "execution_count": 83,
     "metadata": {},
     "output_type": "execute_result"
    }
   ],
   "source": [
    "# entrenamos el modelo\n",
    "\n",
    "lassoreg.fit(X_train, y_train)"
   ]
  },
  {
   "cell_type": "code",
   "execution_count": 84,
   "id": "7efb5fc9",
   "metadata": {},
   "outputs": [
    {
     "name": "stdout",
     "output_type": "stream",
     "text": [
      "Intercepto:  123.34866942884304\n",
      "Coeficientes:  [ 0.         -0.          6.36561443  6.29526617  6.74930805  0.75481726\n",
      " -1.87010303]\n"
     ]
    }
   ],
   "source": [
    "# imprimimos coeficientes\n",
    "\n",
    "print('Intercepto: ', lassoreg.intercept_)\n",
    "print('Coeficientes: ', lassoreg.coef_)"
   ]
  },
  {
   "cell_type": "code",
   "execution_count": 85,
   "id": "3adeb083",
   "metadata": {},
   "outputs": [],
   "source": [
    "# realizamos las predicciones\n",
    "\n",
    "lassoregpred = lassoreg.predict(X_test)"
   ]
  },
  {
   "cell_type": "code",
   "execution_count": 86,
   "id": "3507ec8b",
   "metadata": {},
   "outputs": [
    {
     "name": "stdout",
     "output_type": "stream",
     "text": [
      "Valor de R2:  0.977565671226078\n",
      "Error Absoluto Medio:  6.4022959826076935\n",
      "Error Cuadrartico Medio:  85.85300310206533\n",
      "Raiz del Error Caudratico Medio:  9.265689564304717\n"
     ]
    }
   ],
   "source": [
    "print('Valor de R2: ', r2_score(y_test, lassoregpred))\n",
    "print('Error Absoluto Medio: ', metrics.mean_absolute_error(y_test, lassoregpred))\n",
    "print('Error Cuadrartico Medio: ', metrics.mean_squared_error(y_test, lassoregpred))\n",
    "print('Raiz del Error Caudratico Medio: ', np.sqrt(metrics.mean_squared_error(y_test, lassoregpred)))"
   ]
  },
  {
   "cell_type": "markdown",
   "id": "24292f44",
   "metadata": {},
   "source": [
    "SELECCION DEL VALOR OPTIMO PARA EL MODELO LASSO"
   ]
  },
  {
   "cell_type": "code",
   "execution_count": 87,
   "id": "8322981b",
   "metadata": {},
   "outputs": [],
   "source": [
    "from sklearn.linear_model import LassoCV"
   ]
  },
  {
   "cell_type": "code",
   "execution_count": 88,
   "id": "05b73a84",
   "metadata": {},
   "outputs": [],
   "source": [
    "lassoregcv = LassoCV(n_alphas = 100, random_state = 1)"
   ]
  },
  {
   "cell_type": "code",
   "execution_count": 89,
   "id": "42bd40ec",
   "metadata": {},
   "outputs": [
    {
     "data": {
      "text/html": [
       "<style>#sk-container-id-5 {color: black;}#sk-container-id-5 pre{padding: 0;}#sk-container-id-5 div.sk-toggleable {background-color: white;}#sk-container-id-5 label.sk-toggleable__label {cursor: pointer;display: block;width: 100%;margin-bottom: 0;padding: 0.3em;box-sizing: border-box;text-align: center;}#sk-container-id-5 label.sk-toggleable__label-arrow:before {content: \"▸\";float: left;margin-right: 0.25em;color: #696969;}#sk-container-id-5 label.sk-toggleable__label-arrow:hover:before {color: black;}#sk-container-id-5 div.sk-estimator:hover label.sk-toggleable__label-arrow:before {color: black;}#sk-container-id-5 div.sk-toggleable__content {max-height: 0;max-width: 0;overflow: hidden;text-align: left;background-color: #f0f8ff;}#sk-container-id-5 div.sk-toggleable__content pre {margin: 0.2em;color: black;border-radius: 0.25em;background-color: #f0f8ff;}#sk-container-id-5 input.sk-toggleable__control:checked~div.sk-toggleable__content {max-height: 200px;max-width: 100%;overflow: auto;}#sk-container-id-5 input.sk-toggleable__control:checked~label.sk-toggleable__label-arrow:before {content: \"▾\";}#sk-container-id-5 div.sk-estimator input.sk-toggleable__control:checked~label.sk-toggleable__label {background-color: #d4ebff;}#sk-container-id-5 div.sk-label input.sk-toggleable__control:checked~label.sk-toggleable__label {background-color: #d4ebff;}#sk-container-id-5 input.sk-hidden--visually {border: 0;clip: rect(1px 1px 1px 1px);clip: rect(1px, 1px, 1px, 1px);height: 1px;margin: -1px;overflow: hidden;padding: 0;position: absolute;width: 1px;}#sk-container-id-5 div.sk-estimator {font-family: monospace;background-color: #f0f8ff;border: 1px dotted black;border-radius: 0.25em;box-sizing: border-box;margin-bottom: 0.5em;}#sk-container-id-5 div.sk-estimator:hover {background-color: #d4ebff;}#sk-container-id-5 div.sk-parallel-item::after {content: \"\";width: 100%;border-bottom: 1px solid gray;flex-grow: 1;}#sk-container-id-5 div.sk-label:hover label.sk-toggleable__label {background-color: #d4ebff;}#sk-container-id-5 div.sk-serial::before {content: \"\";position: absolute;border-left: 1px solid gray;box-sizing: border-box;top: 0;bottom: 0;left: 50%;z-index: 0;}#sk-container-id-5 div.sk-serial {display: flex;flex-direction: column;align-items: center;background-color: white;padding-right: 0.2em;padding-left: 0.2em;position: relative;}#sk-container-id-5 div.sk-item {position: relative;z-index: 1;}#sk-container-id-5 div.sk-parallel {display: flex;align-items: stretch;justify-content: center;background-color: white;position: relative;}#sk-container-id-5 div.sk-item::before, #sk-container-id-5 div.sk-parallel-item::before {content: \"\";position: absolute;border-left: 1px solid gray;box-sizing: border-box;top: 0;bottom: 0;left: 50%;z-index: -1;}#sk-container-id-5 div.sk-parallel-item {display: flex;flex-direction: column;z-index: 1;position: relative;background-color: white;}#sk-container-id-5 div.sk-parallel-item:first-child::after {align-self: flex-end;width: 50%;}#sk-container-id-5 div.sk-parallel-item:last-child::after {align-self: flex-start;width: 50%;}#sk-container-id-5 div.sk-parallel-item:only-child::after {width: 0;}#sk-container-id-5 div.sk-dashed-wrapped {border: 1px dashed gray;margin: 0 0.4em 0.5em 0.4em;box-sizing: border-box;padding-bottom: 0.4em;background-color: white;}#sk-container-id-5 div.sk-label label {font-family: monospace;font-weight: bold;display: inline-block;line-height: 1.2em;}#sk-container-id-5 div.sk-label-container {text-align: center;}#sk-container-id-5 div.sk-container {/* jupyter's `normalize.less` sets `[hidden] { display: none; }` but bootstrap.min.css set `[hidden] { display: none !important; }` so we also need the `!important` here to be able to override the default hidden behavior on the sphinx rendered scikit-learn.org. See: https://github.com/scikit-learn/scikit-learn/issues/21755 */display: inline-block !important;position: relative;}#sk-container-id-5 div.sk-text-repr-fallback {display: none;}</style><div id=\"sk-container-id-5\" class=\"sk-top-container\"><div class=\"sk-text-repr-fallback\"><pre>LassoCV(random_state=1)</pre><b>In a Jupyter environment, please rerun this cell to show the HTML representation or trust the notebook. <br />On GitHub, the HTML representation is unable to render, please try loading this page with nbviewer.org.</b></div><div class=\"sk-container\" hidden><div class=\"sk-item\"><div class=\"sk-estimator sk-toggleable\"><input class=\"sk-toggleable__control sk-hidden--visually\" id=\"sk-estimator-id-5\" type=\"checkbox\" checked><label for=\"sk-estimator-id-5\" class=\"sk-toggleable__label sk-toggleable__label-arrow\">LassoCV</label><div class=\"sk-toggleable__content\"><pre>LassoCV(random_state=1)</pre></div></div></div></div></div>"
      ],
      "text/plain": [
       "LassoCV(random_state=1)"
      ]
     },
     "execution_count": 89,
     "metadata": {},
     "output_type": "execute_result"
    }
   ],
   "source": [
    "# entrenamos el modelo\n",
    "\n",
    "lassoregcv.fit(X_train, y_train)"
   ]
  },
  {
   "cell_type": "code",
   "execution_count": 90,
   "id": "64a4301d",
   "metadata": {},
   "outputs": [
    {
     "name": "stdout",
     "output_type": "stream",
     "text": [
      "Alpha Optimo:  0.45442206714715\n"
     ]
    }
   ],
   "source": [
    "print('Alpha Optimo: ', lassoregcv.alpha_)"
   ]
  },
  {
   "cell_type": "markdown",
   "id": "604f1f99",
   "metadata": {},
   "source": [
    "COEFICIENTES DE REGRESION DE LASSOCV"
   ]
  },
  {
   "cell_type": "code",
   "execution_count": 91,
   "id": "99f39f07",
   "metadata": {},
   "outputs": [
    {
     "name": "stdout",
     "output_type": "stream",
     "text": [
      "Intercepto:  126.10535289477207\n",
      "Coeficientes:  [ 0.          0.          6.14099602  5.4462973   5.62023828  2.61988286\n",
      " -1.90585504]\n"
     ]
    }
   ],
   "source": [
    "print('Intercepto: ', lassoregcv.intercept_)\n",
    "print('Coeficientes: ', lassoregcv.coef_)"
   ]
  },
  {
   "cell_type": "code",
   "execution_count": 92,
   "id": "aa1e311c",
   "metadata": {},
   "outputs": [],
   "source": [
    "# prediccion de lasso con el valor optimo\n",
    "\n",
    "lassoregcvpred = lassoregcv.predict(X_test)"
   ]
  },
  {
   "cell_type": "code",
   "execution_count": 93,
   "id": "1877585d",
   "metadata": {},
   "outputs": [
    {
     "name": "stdout",
     "output_type": "stream",
     "text": [
      "Valor de R2 0.9775539332111336\n",
      "Error Absoluto Medio 6.405732289229923\n",
      "Error Cuadratico Medio 85.89792282503036\n",
      "Raiz del Error Caudratico Medio 9.268113228971167\n"
     ]
    }
   ],
   "source": [
    "print('Valor de R2', r2_score(y_test, lassoregcvpred))\n",
    "print('Error Absoluto Medio', metrics.mean_absolute_error(y_test, lassoregcvpred))\n",
    "print('Error Cuadratico Medio', metrics.mean_squared_error(y_test, lassoregcvpred))\n",
    "print('Raiz del Error Caudratico Medio', np.sqrt(metrics.mean_squared_error(y_test, lassoregcvpred)))"
   ]
  },
  {
   "cell_type": "markdown",
   "id": "f9ed2f6e",
   "metadata": {},
   "source": [
    "RESULTADOS"
   ]
  },
  {
   "cell_type": "code",
   "execution_count": 95,
   "id": "a49b2490",
   "metadata": {},
   "outputs": [
    {
     "name": "stdout",
     "output_type": "stream",
     "text": [
      "Regresion Lienal Multiple: 0.977533\n",
      "Regresion Ridge: 0.977965\n",
      "Regresion Lasso: 0.977554\n"
     ]
    }
   ],
   "source": [
    "print('Regresion Lienal Multiple: %f' % r2_score(y_test, linregpred))\n",
    "print('Regresion Ridge: %f' % r2_score(y_test, ridgeregcvpred))\n",
    "print('Regresion Lasso: %f' %  r2_score(y_test, lassoregcvpred))"
   ]
  },
  {
   "cell_type": "markdown",
   "id": "48fad785",
   "metadata": {},
   "source": [
    "CONCLUSIÓN.\n",
    "\n",
    "En este caso los 3 modelos dieron excelentes resultados.\n",
    "\n",
    "El modelo que mas destaco fue la Regresion Lasso obteniendo un valor de 0.9779 de los 3 modelos es el mas optimo ya que se acerca al valor de 1."
   ]
  },
  {
   "cell_type": "code",
   "execution_count": null,
   "id": "46767bf3",
   "metadata": {},
   "outputs": [],
   "source": []
  }
 ],
 "metadata": {
  "kernelspec": {
   "display_name": "Python 3 (ipykernel)",
   "language": "python",
   "name": "python3"
  },
  "language_info": {
   "codemirror_mode": {
    "name": "ipython",
    "version": 3
   },
   "file_extension": ".py",
   "mimetype": "text/x-python",
   "name": "python",
   "nbconvert_exporter": "python",
   "pygments_lexer": "ipython3",
   "version": "3.11.5"
  }
 },
 "nbformat": 4,
 "nbformat_minor": 5
}
